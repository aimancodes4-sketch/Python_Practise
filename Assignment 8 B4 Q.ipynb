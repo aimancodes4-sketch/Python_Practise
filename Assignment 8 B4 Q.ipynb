{
 "cells": [
  {
   "cell_type": "markdown",
   "id": "94b44a26-a3e1-40b6-a2f8-5288da630659",
   "metadata": {},
   "source": [
    "Q1. Write a Python function called add_numbers that takes two numbers as arguments and returns their sum. Then, test the function by calling it with two numbers of your choice.\n"
   ]
  },
  {
   "cell_type": "code",
   "execution_count": 1,
   "id": "7f650f16",
   "metadata": {},
   "outputs": [
    {
     "data": {
      "text/plain": [
       "17"
      ]
     },
     "execution_count": 1,
     "metadata": {},
     "output_type": "execute_result"
    }
   ],
   "source": [
    "def add_numbers(num1,num2):\n",
    "    return num1+num2\n",
    "\n",
    "add_numbers(9,8)"
   ]
  },
  {
   "cell_type": "markdown",
   "id": "2df82858-cc42-45be-b4d8-a6d24073bb06",
   "metadata": {},
   "source": [
    "Q2. Write a Python function count_vowels that accepts a string and returns the number of vowels a, e, i, o, u, A, E, I, O, U in that string.\n",
    "\n",
    "- Example: 'Welcome'\n",
    "- Output: 3 vowels"
   ]
  },
  {
   "cell_type": "code",
   "execution_count": null,
   "id": "2422f742",
   "metadata": {},
   "outputs": [
    {
     "data": {
      "text/plain": [
       "3"
      ]
     },
     "execution_count": 3,
     "metadata": {},
     "output_type": "execute_result"
    }
   ],
   "source": [
    "def count_vowels(string1):\n",
    "    count=0\n",
    "    for s in string1:\n",
    "        if s=='a' or s=='A' or s=='i' or s=='I' or s=='e' or s=='E' or s=='o' or s=='O' or s=='U' or s=='u':\n",
    "            count=count+1\n",
    "    return count\n",
    "count_vowels(\"Aiman\")\n",
    "count_vowels(\"Welcome\")"
   ]
  },
  {
   "cell_type": "markdown",
   "id": "14ada7c2-26ff-467b-9856-2bae9d7b673f",
   "metadata": {},
   "source": [
    "Q3. Create a Python function called currency_converter() that takes two arguments:\n",
    "\n",
    "- amount: The amount of money to be converted (in USD).\n",
    "- exchange_rate (default is 280): The conversion rate from USD to another currency (e.g., PKR). You can assume the default rate is 1 USD = 280 PKR.\n",
    "- \n",
    "The function should return a message showing how much the given amount is worth in the target currency (PKR).\n",
    "\n",
    "Expected Output:\n",
    "\n",
    "'100 USD is equivalent to 28000 PKR'\n",
    "\n"
   ]
  },
  {
   "cell_type": "code",
   "execution_count": 6,
   "id": "782cee21",
   "metadata": {},
   "outputs": [
    {
     "data": {
      "text/plain": [
       "'2 USD is equivalent to 560 PKR'"
      ]
     },
     "execution_count": 6,
     "metadata": {},
     "output_type": "execute_result"
    }
   ],
   "source": [
    "def currency_convertor(amount):\n",
    "    return f\"{amount} USD is equivalent to {amount*280} PKR\"\n",
    "\n",
    "currency_convertor(2)"
   ]
  },
  {
   "cell_type": "markdown",
   "id": "2be859c9-23bb-4cff-abee-092295757847",
   "metadata": {},
   "source": [
    "Q4. Write a Python function display_student_info that accepts the following details about a student:\n",
    "\n",
    "- name (Keyword argument): The name of the student.\n",
    "- age (Keyword argument): The age of the student.\n",
    "- grade (Keyword argument): The grade the student is in.\n",
    "- school (Keyword argument): The name of the school the student attends.\n",
    "\n",
    "Expected Output:\n",
    "\n",
    "- Name: John Doe\n",
    "- Age: 15\n",
    "- Grade: 10th\n",
    "- School: Greenwood High"
   ]
  },
  {
   "cell_type": "code",
   "execution_count": 7,
   "id": "3a0225e9",
   "metadata": {},
   "outputs": [
    {
     "name": "stdout",
     "output_type": "stream",
     "text": [
      "Name : Aiman\n",
      "Age : 19\n",
      "Grade : 5th Sem\n",
      "University : KU\n"
     ]
    }
   ],
   "source": [
    "def display_student(**kwargs):\n",
    "    for k,v in kwargs.items():\n",
    "        print(f\"{k} : {v}\")\n",
    "display_student(Name=\"Aiman\",Age=19,Grade=\"5th Sem\",University=\"KU\")"
   ]
  },
  {
   "cell_type": "markdown",
   "id": "6fa029c5-095c-463f-b29d-ff8469cbdfea",
   "metadata": {},
   "source": [
    "Q5. Write a Python function calculate_price that accepts two positional arguments:\n",
    "\n",
    "- price: The price of a single item.\n",
    "- quantity: The number of items bought.\n",
    "- The function should return the total price by multiplying price and quantity.\n"
   ]
  },
  {
   "cell_type": "code",
   "execution_count": 8,
   "id": "74ccb95c",
   "metadata": {},
   "outputs": [
    {
     "data": {
      "text/plain": [
       "720.0"
      ]
     },
     "execution_count": 8,
     "metadata": {},
     "output_type": "execute_result"
    }
   ],
   "source": [
    "def calculate_price(price:float,quantity:int):\n",
    "    return price*quantity\n",
    "calculate_price(180.0,4)"
   ]
  },
  {
   "cell_type": "markdown",
   "id": "b0952c84-56d3-478a-8772-ba5434fc4f2f",
   "metadata": {},
   "source": [
    "Q6. Write a Python function display_prices that takes a product name and an arbitrary number of keyword arguments representing product prices. The function should display each product and its price.\n",
    "\n",
    "Expected Output:\n",
    "\n",
    "Product: Laptop\n",
    "\n",
    "Amazon: $800\n",
    "\n",
    "eBay: $750\n",
    "\n",
    "Walmart: $780"
   ]
  },
  {
   "cell_type": "code",
   "execution_count": 19,
   "id": "083619e5",
   "metadata": {},
   "outputs": [
    {
     "name": "stdout",
     "output_type": "stream",
     "text": [
      "Product:Laptop\n",
      "Amazon: $800\n",
      "eBay: $750\n",
      "Walmart: $780\n"
     ]
    }
   ],
   "source": [
    "def display_prices(product_name,**kwargs):\n",
    "    print(f\"Product:{product_name}\")\n",
    "    for k,v in kwargs.items():\n",
    "        print(f\"{k}: {v}\")\n",
    "\n",
    "display_prices(\"Laptop\",Amazon=\"$800\",eBay=\"$750\",Walmart=\"$780\")"
   ]
  },
  {
   "cell_type": "markdown",
   "id": "18d9013b-c0e4-4e14-82e7-6c0d03917322",
   "metadata": {},
   "source": [
    "Q7. Write a Python function find_max that takes arbitrary number of positional arguments and returns the maximum number."
   ]
  },
  {
   "cell_type": "code",
   "execution_count": 18,
   "id": "85c68932",
   "metadata": {},
   "outputs": [
    {
     "data": {
      "text/plain": [
       "55"
      ]
     },
     "execution_count": 18,
     "metadata": {},
     "output_type": "execute_result"
    }
   ],
   "source": [
    "def max_num(*args): #ARBITATORY ARGUMENT\n",
    "    max=0\n",
    "    for i in args:\n",
    "        if max<i:\n",
    "            max=i\n",
    "    return max\n",
    "max_num(11,22,33,44,55)"
   ]
  },
  {
   "cell_type": "markdown",
   "id": "5d99ddf7-24ba-4bc6-87fe-7ccabcdebeb4",
   "metadata": {},
   "source": [
    "Q8. \n",
    "\n",
    "Write a Python function calculate_rectangle that accepts the length and width of a rectangle as arguments. Inside this function, create two nested functions:\n",
    "\n",
    "- calculate_area: This function should calculate the area of the rectangle.\n",
    "- calculate_perimeter: This function should calculate the perimeter of the rectangle.\n",
    "- The main function should return both the area and the perimeter of the rectangle.\n",
    "\n",
    "Expected Output:\n",
    "\n",
    "Area: 15\n",
    "\n",
    "Perimeter: 16\n"
   ]
  },
  {
   "cell_type": "code",
   "execution_count": 12,
   "id": "5c5f0792",
   "metadata": {},
   "outputs": [
    {
     "data": {
      "text/plain": [
       "(306, 70)"
      ]
     },
     "execution_count": 12,
     "metadata": {},
     "output_type": "execute_result"
    }
   ],
   "source": [
    "def calculate_rectangle(length,width):\n",
    "    def calculate_area(width,length):\n",
    "        return width*length\n",
    "    def calculate_perimeter(length,width):\n",
    "        return 2*(length+width)\n",
    "    return calculate_area(length,width),calculate_perimeter(length,width)\n",
    "calculate_rectangle(18,17)"
   ]
  },
  {
   "cell_type": "markdown",
   "id": "a668489b-a207-48a6-904e-fb7c2859e04d",
   "metadata": {},
   "source": [
    "Q9. Write a Python function taxi_fare(distance, rate=100) that calculates the taxi fare.\n",
    "The default rate is 100 PKR per km, but the user can also enter a custom rate.\n",
    "\n",
    "FORMULA: distance * rate\n",
    "\n",
    "Expected Output:\n",
    "\n",
    "- Taxi fare for 10 km = 1000 PKR (using default parameter)\n",
    "- Taxi fare for 15 km = 1800 PKR (custom rate)"
   ]
  },
  {
   "cell_type": "code",
   "execution_count": 13,
   "id": "34f227ce",
   "metadata": {},
   "outputs": [
    {
     "data": {
      "text/plain": [
       "2700"
      ]
     },
     "execution_count": 13,
     "metadata": {},
     "output_type": "execute_result"
    }
   ],
   "source": [
    "def taxi_fare(distance,rate=100):\n",
    "    return distance*rate\n",
    "taxi_fare(15,180)"
   ]
  },
  {
   "cell_type": "markdown",
   "id": "ed779581-c1bc-45a5-8971-687391e077a2",
   "metadata": {},
   "source": [
    "Q10.\n",
    "\n",
    "Write a Python function shopping_bill(price, quantity, discount=0) that uses nested functions:\n",
    "\n",
    "- An inner function calculate_total() → multiplies price * quantity.\n",
    "- An inner function apply_discount(total) → subtracts discount from total (but never below 0).\n",
    "\n",
    "The outer function should return the final bill amount.\n",
    "\n",
    "Expected Output:\n",
    "\n",
    "- Final Bill = 600 PKR (no discount)\n",
    "- Final Bill = 500 PKR (with discount)"
   ]
  },
  {
   "cell_type": "code",
   "execution_count": 17,
   "id": "ee0ac957-86e2-49bc-adc3-861ac984d055",
   "metadata": {},
   "outputs": [
    {
     "name": "stdout",
     "output_type": "stream",
     "text": [
      "With Discount 1000 PKR\n",
      "Without Discount 1200 PKR\n"
     ]
    }
   ],
   "source": [
    "def shopping_bill(price,quantity,discount=0):\n",
    "    def calculate_total():\n",
    "        return price*quantity\n",
    "    def apply_discount(total):\n",
    "        return total-discount\n",
    "    total=calculate_total()\n",
    "    with_dis=apply_discount(total)\n",
    "    return with_dis\n",
    "\n",
    "print(\"With Discount\",shopping_bill(200,6,discount=200),\"PKR\")\n",
    "print(\"Without Discount\",shopping_bill(200,6),\"PKR\")"
   ]
  },
  {
   "cell_type": "code",
   "execution_count": null,
   "id": "cc1e8ceb-2efd-48f0-b55b-a371c15a5f1a",
   "metadata": {},
   "outputs": [],
   "source": []
  },
  {
   "cell_type": "code",
   "execution_count": null,
   "id": "41bfc859-bda5-4e9c-a882-06074b5aaa8a",
   "metadata": {},
   "outputs": [],
   "source": []
  },
  {
   "cell_type": "code",
   "execution_count": null,
   "id": "0f6dce26-23d8-440d-871f-9c5286747026",
   "metadata": {},
   "outputs": [],
   "source": []
  },
  {
   "cell_type": "code",
   "execution_count": null,
   "id": "d7242935-7424-4d92-a5e5-cbf66fe8ac52",
   "metadata": {},
   "outputs": [],
   "source": []
  }
 ],
 "metadata": {
  "kernelspec": {
   "display_name": "Python 3",
   "language": "python",
   "name": "python3"
  },
  "language_info": {
   "codemirror_mode": {
    "name": "ipython",
    "version": 3
   },
   "file_extension": ".py",
   "mimetype": "text/x-python",
   "name": "python",
   "nbconvert_exporter": "python",
   "pygments_lexer": "ipython3",
   "version": "3.13.7"
  }
 },
 "nbformat": 4,
 "nbformat_minor": 5
}
